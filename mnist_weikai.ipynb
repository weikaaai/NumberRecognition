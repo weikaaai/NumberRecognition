{
 "cells": [
  {
   "cell_type": "code",
   "execution_count": 1,
   "metadata": {},
   "outputs": [
    {
     "name": "stderr",
     "output_type": "stream",
     "text": [
      "/Users/weikai/anaconda3/lib/python3.6/site-packages/tensorflow/python/framework/dtypes.py:516: FutureWarning: Passing (type, 1) or '1type' as a synonym of type is deprecated; in a future version of numpy, it will be understood as (type, (1,)) / '(1,)type'.\n",
      "  _np_qint8 = np.dtype([(\"qint8\", np.int8, 1)])\n",
      "/Users/weikai/anaconda3/lib/python3.6/site-packages/tensorflow/python/framework/dtypes.py:517: FutureWarning: Passing (type, 1) or '1type' as a synonym of type is deprecated; in a future version of numpy, it will be understood as (type, (1,)) / '(1,)type'.\n",
      "  _np_quint8 = np.dtype([(\"quint8\", np.uint8, 1)])\n",
      "/Users/weikai/anaconda3/lib/python3.6/site-packages/tensorflow/python/framework/dtypes.py:518: FutureWarning: Passing (type, 1) or '1type' as a synonym of type is deprecated; in a future version of numpy, it will be understood as (type, (1,)) / '(1,)type'.\n",
      "  _np_qint16 = np.dtype([(\"qint16\", np.int16, 1)])\n",
      "/Users/weikai/anaconda3/lib/python3.6/site-packages/tensorflow/python/framework/dtypes.py:519: FutureWarning: Passing (type, 1) or '1type' as a synonym of type is deprecated; in a future version of numpy, it will be understood as (type, (1,)) / '(1,)type'.\n",
      "  _np_quint16 = np.dtype([(\"quint16\", np.uint16, 1)])\n",
      "/Users/weikai/anaconda3/lib/python3.6/site-packages/tensorflow/python/framework/dtypes.py:520: FutureWarning: Passing (type, 1) or '1type' as a synonym of type is deprecated; in a future version of numpy, it will be understood as (type, (1,)) / '(1,)type'.\n",
      "  _np_qint32 = np.dtype([(\"qint32\", np.int32, 1)])\n",
      "/Users/weikai/anaconda3/lib/python3.6/site-packages/tensorflow/python/framework/dtypes.py:525: FutureWarning: Passing (type, 1) or '1type' as a synonym of type is deprecated; in a future version of numpy, it will be understood as (type, (1,)) / '(1,)type'.\n",
      "  np_resource = np.dtype([(\"resource\", np.ubyte, 1)])\n",
      "/Users/weikai/anaconda3/lib/python3.6/site-packages/tensorboard/compat/tensorflow_stub/dtypes.py:541: FutureWarning: Passing (type, 1) or '1type' as a synonym of type is deprecated; in a future version of numpy, it will be understood as (type, (1,)) / '(1,)type'.\n",
      "  _np_qint8 = np.dtype([(\"qint8\", np.int8, 1)])\n",
      "/Users/weikai/anaconda3/lib/python3.6/site-packages/tensorboard/compat/tensorflow_stub/dtypes.py:542: FutureWarning: Passing (type, 1) or '1type' as a synonym of type is deprecated; in a future version of numpy, it will be understood as (type, (1,)) / '(1,)type'.\n",
      "  _np_quint8 = np.dtype([(\"quint8\", np.uint8, 1)])\n",
      "/Users/weikai/anaconda3/lib/python3.6/site-packages/tensorboard/compat/tensorflow_stub/dtypes.py:543: FutureWarning: Passing (type, 1) or '1type' as a synonym of type is deprecated; in a future version of numpy, it will be understood as (type, (1,)) / '(1,)type'.\n",
      "  _np_qint16 = np.dtype([(\"qint16\", np.int16, 1)])\n",
      "/Users/weikai/anaconda3/lib/python3.6/site-packages/tensorboard/compat/tensorflow_stub/dtypes.py:544: FutureWarning: Passing (type, 1) or '1type' as a synonym of type is deprecated; in a future version of numpy, it will be understood as (type, (1,)) / '(1,)type'.\n",
      "  _np_quint16 = np.dtype([(\"quint16\", np.uint16, 1)])\n",
      "/Users/weikai/anaconda3/lib/python3.6/site-packages/tensorboard/compat/tensorflow_stub/dtypes.py:545: FutureWarning: Passing (type, 1) or '1type' as a synonym of type is deprecated; in a future version of numpy, it will be understood as (type, (1,)) / '(1,)type'.\n",
      "  _np_qint32 = np.dtype([(\"qint32\", np.int32, 1)])\n",
      "/Users/weikai/anaconda3/lib/python3.6/site-packages/tensorboard/compat/tensorflow_stub/dtypes.py:550: FutureWarning: Passing (type, 1) or '1type' as a synonym of type is deprecated; in a future version of numpy, it will be understood as (type, (1,)) / '(1,)type'.\n",
      "  np_resource = np.dtype([(\"resource\", np.ubyte, 1)])\n"
     ]
    }
   ],
   "source": [
    "from tensorflow.keras.datasets import mnist\n",
    "(X_train, Y_train), (X_test, Y_test) = mnist.load_data()"
   ]
  },
  {
   "cell_type": "code",
   "execution_count": 2,
   "metadata": {},
   "outputs": [],
   "source": [
    "import numpy as np\n",
    "np.random.seed(1)\n",
    "\n",
    "def one_hot(x:list):\n",
    "    return np.eye(10)[x]"
   ]
  },
  {
   "cell_type": "code",
   "execution_count": 3,
   "metadata": {},
   "outputs": [],
   "source": [
    "X_train = X_train.reshape(60000, 784)\n",
    "Y_train = one_hot(Y_train)"
   ]
  },
  {
   "cell_type": "code",
   "execution_count": 4,
   "metadata": {},
   "outputs": [],
   "source": [
    "X_train = X_train / 255.0"
   ]
  },
  {
   "cell_type": "code",
   "execution_count": 53,
   "metadata": {},
   "outputs": [],
   "source": [
    "def sigmoid(x, d=False):\n",
    "    if d:\n",
    "        return sigmoid(x) * (1 - sigmoid(x))\n",
    "    return 1 / (1 + np.exp(-x))\n",
    "\n",
    "# configs\n",
    "iteration = 100000\n",
    "learning_rate = 0.01\n",
    "data_size = 60000\n",
    "batch_size = 16\n",
    "input_size = 784\n",
    "output_size = 10\n",
    "hidden_1 = 128\n",
    "hidden_2 = 32\n",
    "\n",
    "# weights init\n",
    "weights_0 = np.random.uniform(-1, 1, (input_size, hidden_1))\n",
    "weights_1 = np.random.uniform(-1, 1, (hidden_1, hidden_2))\n",
    "weights_2 = np.random.uniform(-1, 1, (hidden_2, output_size))\n",
    "\n",
    "# bias init\n",
    "b_0 = 1\n",
    "b_1 = 1\n",
    "b_2 = 1"
   ]
  },
  {
   "cell_type": "code",
   "execution_count": 54,
   "metadata": {},
   "outputs": [
    {
     "name": "stderr",
     "output_type": "stream",
     "text": [
      "mean error: 0.000633: 100%|██████████| 100000/100000 [08:17<00:00, 200.90it/s]\n"
     ]
    }
   ],
   "source": [
    "from tqdm import trange\n",
    "\n",
    "t = trange(iteration)\n",
    "\n",
    "# training network\n",
    "for i in t:\n",
    "    # batch\n",
    "    a = (i % int(data_size / batch_size - 1)) * batch_size\n",
    "    b = ((i % int(data_size / batch_size - 1)) + 1) * batch_size\n",
    "    tmp_X_train = X_train[a:b]\n",
    "    tmp_Y_train = Y_train[a:b]\n",
    "    # forward\n",
    "    p1 = np.dot(tmp_X_train, weights_0) + b_0\n",
    "    act1 = sigmoid(p1)\n",
    "    p2 = np.dot(act1, weights_1) + b_1\n",
    "    act2 = sigmoid(p2)\n",
    "    p3 = np.dot(act2, weights_2) + b_2\n",
    "    act3 = sigmoid(p3)\n",
    "    err = (tmp_Y_train - act3) ** 2\n",
    "    m_err = np.mean(np.sum(err, axis=0))\n",
    "    t.set_description(\"mean error: %f\" % m_err)\n",
    "    # backward\n",
    "    t1 = 2 * (tmp_Y_train - act3) * sigmoid(p3, True)\n",
    "    t2 = np.dot(act2.T, t1)\n",
    "    t_1 = np.dot(weights_2, t1.T)\n",
    "    t_2 = sigmoid(p2, True) * t_1.T\n",
    "    t_3 = np.dot(act1.T, t_2)\n",
    "    k1 = np.dot(weights_1, t_2.T)\n",
    "    k2 = sigmoid(p1, True) * k1.T\n",
    "    k3 = np.dot(tmp_X_train.T, k2)\n",
    "    weights_0 = weights_0 + (learning_rate * k3)\n",
    "    weights_1 = weights_1 + (learning_rate * t_3)\n",
    "    weights_2 = weights_2 + (learning_rate * t2)"
   ]
  },
  {
   "cell_type": "code",
   "execution_count": 76,
   "metadata": {},
   "outputs": [
    {
     "name": "stderr",
     "output_type": "stream",
     "text": [
      "  0%|          | 0/10000 [00:00<?, ?it/s]/Users/weikai/anaconda3/lib/python3.6/site-packages/ipykernel_launcher.py:4: RuntimeWarning: overflow encountered in exp\n",
      "  after removing the cwd from sys.path.\n",
      "accuracy: 9456 / 10000: 100%|██████████| 10000/10000 [00:36<00:00, 270.35it/s]\n"
     ]
    }
   ],
   "source": [
    "counter = 0\n",
    "\n",
    "it = 10000\n",
    "t = trange(it)\n",
    "\n",
    "for i in t:\n",
    "    test = X_test[i].flatten()\n",
    "    p1 = np.dot(test, weights_0) + b_0\n",
    "    act1 = sigmoid(p1)\n",
    "    p2 = np.dot(act1, weights_1) + b_1\n",
    "    act2 = sigmoid(p2)\n",
    "    p3 = np.dot(act2, weights_2) + b_2\n",
    "    act3 = sigmoid(p3)\n",
    "    pred = np.argmax(act3)\n",
    "    ans = Y_test[i]\n",
    "    if pred == ans:\n",
    "        counter = counter + 1\n",
    "        t.set_description(\"accuracy: %d / %d\" % (counter, it))"
   ]
  },
  {
   "cell_type": "code",
   "execution_count": null,
   "metadata": {},
   "outputs": [],
   "source": []
  }
 ],
 "metadata": {
  "kernelspec": {
   "display_name": "Python 3",
   "language": "python",
   "name": "python3"
  },
  "language_info": {
   "codemirror_mode": {
    "name": "ipython",
    "version": 3
   },
   "file_extension": ".py",
   "mimetype": "text/x-python",
   "name": "python",
   "nbconvert_exporter": "python",
   "pygments_lexer": "ipython3",
   "version": "3.6.10"
  }
 },
 "nbformat": 4,
 "nbformat_minor": 4
}
